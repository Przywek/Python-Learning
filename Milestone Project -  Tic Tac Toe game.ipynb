{
 "cells": [
  {
   "cell_type": "code",
   "execution_count": 1,
   "metadata": {},
   "outputs": [],
   "source": [
    "from IPython.display import clear_output\n",
    "\n",
    "def display_board(board): \n",
    "    clear_output()\n",
    "    print (\"|-------------------------------------|\")\n",
    "    print (\"|------|~|--------|~|----------|~|----|\")\n",
    "    print (\"|/\\/\\/\\|\"+ board[1] + \"|/\\/\\/\\/\\|\"+board[2]+\"|/\\/\\/\\/\\/\\|\"+board[3]+\"|\\/\\/|\")\n",
    "    print (\"|------|~|--------|~|----------|~|----|\")\n",
    "    print (\"|------|~|--------|~|----------|~|----|\")\n",
    "    print (\"|\\/\\/\\/|\"+ board[4] + \"|/\\/\\/\\/\\|\"+board[5]+\"|/\\/\\/\\/\\/\\|\"+board[6]+\"|\\/\\/|\")\n",
    "    print (\"|------|~|--------|~|----------|~|----|\")\n",
    "    print (\"|------|~|--------|~|----------|~|----|\")\n",
    "    print (\"|/\\/\\/\\|\"+ board[7] + \"|/\\/\\/\\/\\|\"+board[8]+\"|/\\/\\/\\/\\/\\|\"+board[9]+\"|\\/\\/|\")\n",
    "    print (\"|------|~|--------|~|----------|~|----|\")\n",
    "    print (\"|-------------------------------------|\")\n",
    "    pass"
   ]
  },
  {
   "cell_type": "code",
   "execution_count": 2,
   "metadata": {},
   "outputs": [
    {
     "name": "stdout",
     "output_type": "stream",
     "text": [
      "|-------------------------------------|\n",
      "|------|~|--------|~|----------|~|----|\n",
      "|/\\/\\/\\| |/\\/\\/\\/\\|O|/\\/\\/\\/\\/\\|X|\\/\\/|\n",
      "|------|~|--------|~|----------|~|----|\n",
      "|------|~|--------|~|----------|~|----|\n",
      "|\\/\\/\\/|O|/\\/\\/\\/\\|X|/\\/\\/\\/\\/\\|O|\\/\\/|\n",
      "|------|~|--------|~|----------|~|----|\n",
      "|------|~|--------|~|----------|~|----|\n",
      "|/\\/\\/\\|X|/\\/\\/\\/\\|O|/\\/\\/\\/\\/\\|X|\\/\\/|\n",
      "|------|~|--------|~|----------|~|----|\n",
      "|-------------------------------------|\n"
     ]
    }
   ],
   "source": [
    "test_board=['D',' ','O','X','O','X','O','X','O','X']\n",
    "display_board(test_board)"
   ]
  },
  {
   "cell_type": "code",
   "execution_count": 3,
   "metadata": {},
   "outputs": [],
   "source": [
    "def choose_player():\n",
    "    while True:\n",
    "            player = input(\"Player 1 choose X or O:\")\n",
    "            if player == \"X\" or player==\"x\":\n",
    "                    return (\"X\",\"O\")\n",
    "                    break\n",
    "            elif player ==\"O\" or player==\"o\":\n",
    "                    return ('O',\"X\")\n",
    "                    break\n",
    "            else:\n",
    "                print(\"Choose X or O??\")\n",
    "                continue\n",
    "            \n",
    "                        "
   ]
  },
  {
   "cell_type": "markdown",
   "metadata": {},
   "source": [
    "#choose_player()"
   ]
  },
  {
   "cell_type": "code",
   "execution_count": 4,
   "metadata": {},
   "outputs": [],
   "source": [
    "def position_assign(board,marker,position):\n",
    "    board[position] = marker"
   ]
  },
  {
   "cell_type": "code",
   "execution_count": 5,
   "metadata": {},
   "outputs": [],
   "source": [
    "position_assign(test_board,\"S\",4)\n"
   ]
  },
  {
   "cell_type": "code",
   "execution_count": 6,
   "metadata": {},
   "outputs": [],
   "source": [
    "def win_cond(board,mark):\n",
    "    return ((board[7] == mark and board[8] == mark and board[9] == mark) or \n",
    "    (board[4] == mark and board[5] == mark and board[6] == mark) or \n",
    "    (board[1] == mark and board[2] == mark and board[3] == mark) or \n",
    "    (board[7] == mark and board[4] == mark and board[1] == mark) or \n",
    "    (board[8] == mark and board[5] == mark and board[2] == mark) or \n",
    "    (board[9] == mark and board[6] == mark and board[3] == mark) or \n",
    "    (board[7] == mark and board[5] == mark and board[3] == mark) or \n",
    "    (board[9] == mark and board[5] == mark and board[1] == mark)) \n",
    "        "
   ]
  },
  {
   "cell_type": "code",
   "execution_count": 7,
   "metadata": {},
   "outputs": [
    {
     "data": {
      "text/plain": [
       "True"
      ]
     },
     "execution_count": 7,
     "metadata": {},
     "output_type": "execute_result"
    }
   ],
   "source": [
    "win_cond(test_board, \"X\")"
   ]
  },
  {
   "cell_type": "code",
   "execution_count": 8,
   "metadata": {},
   "outputs": [],
   "source": [
    "import random as rn\n",
    "from random import randint as rni\n",
    "def who_first():\n",
    "    x = rni(1,2)\n",
    "    return x "
   ]
  },
  {
   "cell_type": "code",
   "execution_count": 9,
   "metadata": {},
   "outputs": [],
   "source": [
    "def free_space(board,position):\n",
    "    if board[position] == \" \":\n",
    "        return True\n",
    "    else:\n",
    "        return False"
   ]
  },
  {
   "cell_type": "code",
   "execution_count": 10,
   "metadata": {},
   "outputs": [],
   "source": [
    "def full_board(board):\n",
    "    for i in range(1,10):\n",
    "        if free_space(board, i):\n",
    "            return False\n",
    "    return True"
   ]
  },
  {
   "cell_type": "code",
   "execution_count": 11,
   "metadata": {},
   "outputs": [],
   "source": [
    "def position_next(board):\n",
    "    try:\n",
    "        while True:\n",
    "            position = int(input(\"Please choose a number from 1-9: \"))\n",
    "            if free_space(board,position) == True and position in range(1,10):\n",
    "                return position\n",
    "                break\n",
    "            else:\n",
    "                print(\"it's Not Free choose diffrent \")\n",
    "                continue                \n",
    "    except ValueError: \n",
    "        print (\"Plis choose a number from 1-9 \")\n",
    "    except IndexError:\n",
    "        print (\"Plis choose a number from 1-9 \")"
   ]
  },
  {
   "cell_type": "code",
   "execution_count": 12,
   "metadata": {},
   "outputs": [],
   "source": [
    "def play_again():\n",
    "    while True:\n",
    "        again = str(input(\"Do yo want to play again? [Y]Yes or [N]No\"))\n",
    "        if again == \"Y\":\n",
    "            return True\n",
    "            continue\n",
    "        elif again == \"N\":\n",
    "            return False\n",
    "            break\n",
    "        else: \n",
    "            print (\"Input Y to play again, N to finish\")"
   ]
  },
  {
   "cell_type": "markdown",
   "metadata": {},
   "source": [
    "play_again()"
   ]
  },
  {
   "cell_type": "code",
   "execution_count": 13,
   "metadata": {},
   "outputs": [],
   "source": [
    "def game():\n",
    "    while True:\n",
    "        board=[' '] * 10\n",
    "        Player1_marker,Player2_marker = choose_player()\n",
    "        turn = who_first()\n",
    "        if turn == 1:\n",
    "            print(\"Player 1: {}\" + \"Player 2: {}\").format(Player1_marker,Player2_marker)\n",
    "            print(\"Player 1 first!\")\n",
    "        else:\n",
    "            print (\"Player 2 first!\")\n",
    "        while True:\n",
    "            play_game = input('Are you ready to play the game? Enter [Y]Yes or [N]No.')\n",
    "            if play_game == \"Y\":\n",
    "                game_on = True\n",
    "                break\n",
    "            elif play_game == \"N\":\n",
    "                game_on = False\n",
    "            else:\n",
    "                print (\"Input Y to play again, N to finish\")\n",
    "                continue\n",
    "        while game_on:\n",
    "            if turn == 1:\n",
    "                display_board(board) \n",
    "                try:\n",
    "                    position = int(position_next(board))                \n",
    "                except TypeError:\n",
    "                    print (\"plis choose a number\")\n",
    "                try:\n",
    "                    position_assign(board,Player1_marker,position)\n",
    "                except UnboundLocalError:\n",
    "                    print (\"Plis choose a number from 1 to 9\")\n",
    "                if win_cond(board, Player1_marker):\n",
    "                    display_board(board)\n",
    "                    print('Congratulations! You have won the game!')\n",
    "                    game_on = False\n",
    "                else:\n",
    "                    if full_board(board):\n",
    "                        display_board(board)\n",
    "                        print('The game is a draw!')\n",
    "                        break\n",
    "                    else:\n",
    "                        turn = 2\n",
    "            else:\n",
    "                display_board(board) \n",
    "                try:\n",
    "                    position = int(position_next(board))\n",
    "                except TypeError:\n",
    "                    print (\"plis choose a number\")\n",
    "                except UnboundLocalError:\n",
    "                    print (\"Plis choose a number from 1 to 9\")\n",
    "                try:\n",
    "                    position_assign(board,Player2_marker,position)\n",
    "                except UnboundLocalError:\n",
    "                    print (\"Plis choose a number from 1 to 9\")\n",
    "                if win_cond(board, Player2_marker):\n",
    "                    display_board(board)\n",
    "                    print('Congratulations! You have won the game!')\n",
    "                    game_on = False\n",
    "                else:\n",
    "                    if full_board(board):\n",
    "                        display_board(board)\n",
    "                        print('The game is a draw!')\n",
    "                        break\n",
    "                    else:\n",
    "                        turn = 1\n",
    "        if not play_again():\n",
    "            print (\"Bye\")\n",
    "            break"
   ]
  },
  {
   "cell_type": "markdown",
   "metadata": {
    "collapsed": true
   },
   "source": []
  },
  {
   "cell_type": "code",
   "execution_count": 14,
   "metadata": {},
   "outputs": [
    {
     "name": "stdout",
     "output_type": "stream",
     "text": [
      "|-------------------------------------|\n",
      "|------|~|--------|~|----------|~|----|\n",
      "|/\\/\\/\\|O|/\\/\\/\\/\\|X|/\\/\\/\\/\\/\\|O|\\/\\/|\n",
      "|------|~|--------|~|----------|~|----|\n",
      "|------|~|--------|~|----------|~|----|\n",
      "|\\/\\/\\/|O|/\\/\\/\\/\\|X|/\\/\\/\\/\\/\\|X|\\/\\/|\n",
      "|------|~|--------|~|----------|~|----|\n",
      "|------|~|--------|~|----------|~|----|\n",
      "|/\\/\\/\\|X|/\\/\\/\\/\\|O|/\\/\\/\\/\\/\\|O|\\/\\/|\n",
      "|------|~|--------|~|----------|~|----|\n",
      "|-------------------------------------|\n",
      "The game is a draw!\n",
      "Do yo want to play again? [Y]Yes or [N]NoN\n",
      "Bye\n"
     ]
    }
   ],
   "source": [
    "game()"
   ]
  },
  {
   "cell_type": "markdown",
   "metadata": {
    "collapsed": true
   },
   "source": [
    "# Good Job!"
   ]
  },
  {
   "cell_type": "markdown",
   "metadata": {},
   "source": [
    "###### "
   ]
  }
 ],
 "metadata": {
  "kernelspec": {
   "display_name": "Python 3",
   "language": "python",
   "name": "python3"
  },
  "language_info": {
   "codemirror_mode": {
    "name": "ipython",
    "version": 3
   },
   "file_extension": ".py",
   "mimetype": "text/x-python",
   "name": "python",
   "nbconvert_exporter": "python",
   "pygments_lexer": "ipython3",
   "version": "3.6.5"
  }
 },
 "nbformat": 4,
 "nbformat_minor": 1
}
